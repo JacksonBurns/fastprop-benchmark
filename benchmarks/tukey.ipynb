{
 "cells": [
  {
   "cell_type": "code",
   "execution_count": null,
   "metadata": {},
   "outputs": [],
   "source": [
    "import numpy as np\n",
    "import pandas as pd\n",
    "from scipy.stats import distributions\n",
    "from scipy.stats._hypotests import TukeyHSDResult"
   ]
  },
  {
   "cell_type": "markdown",
   "metadata": {},
   "source": [
    "Adapted from SciPy (https://github.com/scipy/scipy/blob/v1.14.1/scipy/stats/_hypotests.py#L1841-L2027) to work with already-calculated means and standard deviations."
   ]
  },
  {
   "cell_type": "code",
   "execution_count": null,
   "metadata": {},
   "outputs": [],
   "source": [
    "def tukey(mean_1, stdev_1, mean_2, stdev_2, mean_3, stdev_3):\n",
    "    ntreatments = 3\n",
    "    means = np.array([mean_1, mean_2, mean_3])\n",
    "    nsamples_treatments = np.array([5, 5, 5])\n",
    "    nobs = 15\n",
    "\n",
    "    # determine mean square error [5]. Note that this is sometimes called\n",
    "    # mean square error within.\n",
    "    mse = (np.sum([stdev_1**2, stdev_2**2, stdev_3**2] *\n",
    "                  (nsamples_treatments - 1)) / (nobs - ntreatments))\n",
    "\n",
    "    normalize = 2 / nsamples_treatments[0]\n",
    "\n",
    "    # the standard error is used in the computation of the tukey criterion and\n",
    "    # finding the p-values.\n",
    "    stand_err = np.sqrt(normalize * mse / 2)\n",
    "\n",
    "    # the mean difference is the test statistic.\n",
    "    mean_differences = means[None].T - means\n",
    "\n",
    "    # Calculate the t-statistic to use within the survival function of the\n",
    "    # studentized range to get the p-value.\n",
    "    t_stat = np.abs(mean_differences) / stand_err\n",
    "\n",
    "    params = t_stat, ntreatments, nobs - ntreatments\n",
    "    pvalues = distributions.studentized_range.sf(*params)\n",
    "\n",
    "    return TukeyHSDResult(mean_differences, pvalues, ntreatments,\n",
    "                          nobs, stand_err)"
   ]
  },
  {
   "cell_type": "code",
   "execution_count": null,
   "metadata": {},
   "outputs": [],
   "source": [
    "df = pd.read_csv(\"results.csv\")\n",
    "df"
   ]
  },
  {
   "cell_type": "code",
   "execution_count": null,
   "metadata": {},
   "outputs": [
    {
     "name": "stdout",
     "output_type": "stream",
     "text": [
      "\n",
      "    --------------------------------------------------\n",
      "                           HIV                        \n",
      "    --------------------------------------------------\n",
      "    \n",
      "Tukey's HSD Pairwise Group Comparisons (95.0% Confidence Interval)\n",
      "Comparison  Statistic  p-value  Lower CI  Upper CI\n",
      " (0 - 1)      0.267     0.000     0.138     0.396\n",
      " (0 - 2)      0.043     0.656    -0.086     0.172\n",
      " (1 - 0)     -0.267     0.000    -0.396    -0.138\n",
      " (1 - 2)     -0.224     0.002    -0.353    -0.095\n",
      " (2 - 0)     -0.043     0.656    -0.172     0.086\n",
      " (2 - 1)      0.224     0.002     0.095     0.353\n",
      "\n",
      "\n",
      "    --------------------------------------------------\n",
      "                           QM8                        \n",
      "    --------------------------------------------------\n",
      "    \n",
      "Tukey's HSD Pairwise Group Comparisons (95.0% Confidence Interval)\n",
      "Comparison  Statistic  p-value  Lower CI  Upper CI\n",
      " (0 - 1)     -0.008     0.000    -0.008    -0.008\n",
      " (0 - 2)     -0.011     0.000    -0.011    -0.010\n",
      " (1 - 0)      0.008     0.000     0.008     0.008\n",
      " (1 - 2)     -0.003     0.000    -0.003    -0.002\n",
      " (2 - 0)      0.011     0.000     0.010     0.011\n",
      " (2 - 1)      0.003     0.000     0.002     0.003\n",
      "\n",
      "\n",
      "    --------------------------------------------------\n",
      "                          Tox24                       \n",
      "    --------------------------------------------------\n",
      "    \n",
      "Tukey's HSD Pairwise Group Comparisons (95.0% Confidence Interval)\n",
      "Comparison  Statistic  p-value  Lower CI  Upper CI\n",
      " (0 - 1)      1.270     0.449    -1.444     3.984\n",
      " (0 - 2)     -1.150     0.514    -3.864     1.564\n",
      " (1 - 0)     -1.270     0.449    -3.984     1.444\n",
      " (1 - 2)     -2.420     0.082    -5.134     0.294\n",
      " (2 - 0)      1.150     0.514    -1.564     3.864\n",
      " (2 - 1)      2.420     0.082    -0.294     5.134\n",
      "\n",
      "\n",
      "    --------------------------------------------------\n",
      "                           ESOL                       \n",
      "    --------------------------------------------------\n",
      "    \n",
      "Tukey's HSD Pairwise Group Comparisons (95.0% Confidence Interval)\n",
      "Comparison  Statistic  p-value  Lower CI  Upper CI\n",
      " (0 - 1)     -0.017     0.957    -0.181     0.146\n",
      " (0 - 2)     -0.122     0.159    -0.285     0.042\n",
      " (1 - 0)      0.017     0.957    -0.146     0.181\n",
      " (1 - 2)     -0.104     0.245    -0.268     0.059\n",
      " (2 - 0)      0.122     0.159    -0.042     0.285\n",
      " (2 - 1)      0.104     0.245    -0.059     0.268\n",
      "\n",
      "\n",
      "    --------------------------------------------------\n",
      "                         FreeSolv                     \n",
      "    --------------------------------------------------\n",
      "    \n",
      "Tukey's HSD Pairwise Group Comparisons (95.0% Confidence Interval)\n",
      "Comparison  Statistic  p-value  Lower CI  Upper CI\n",
      " (0 - 1)     -0.180     0.383    -0.529     0.169\n",
      " (0 - 2)      0.030     0.971    -0.319     0.379\n",
      " (1 - 0)      0.180     0.383    -0.169     0.529\n",
      " (1 - 2)      0.210     0.281    -0.139     0.559\n",
      " (2 - 0)     -0.030     0.971    -0.379     0.319\n",
      " (2 - 1)     -0.210     0.281    -0.559     0.139\n",
      "\n"
     ]
    }
   ],
   "source": [
    "for _, row in df.iterrows():\n",
    "    mean_1, stdev_1 = row[\"Chemprop\"].split(\"+/-\")\n",
    "    mean_2, stdev_2 = row[\"transformer-cnn\"].split(\"+/-\")\n",
    "    mean_3, stdev_3 = row[\"fastprop\"].split(\"+/-\")\n",
    "    print(f\"\"\"\n",
    "    {'-':-^{50}}\n",
    "    {row[\"Dataset\"]:^{50}}\n",
    "    {'-':-^{50}}\n",
    "    \"\"\")\n",
    "    print(tukey(float(mean_1), float(stdev_1), float(mean_2), float(stdev_2), float(mean_3), float(stdev_3)))"
   ]
  }
 ],
 "metadata": {
  "kernelspec": {
   "display_name": "fprop",
   "language": "python",
   "name": "python3"
  },
  "language_info": {
   "codemirror_mode": {
    "name": "ipython",
    "version": 3
   },
   "file_extension": ".py",
   "mimetype": "text/x-python",
   "name": "python",
   "nbconvert_exporter": "python",
   "pygments_lexer": "ipython3",
   "version": "3.11.9"
  }
 },
 "nbformat": 4,
 "nbformat_minor": 2
}
